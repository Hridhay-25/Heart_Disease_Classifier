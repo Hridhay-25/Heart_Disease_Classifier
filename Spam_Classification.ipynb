{
 "cells": [
  {
   "cell_type": "markdown",
   "id": "4641a9f1",
   "metadata": {},
   "source": [
    "# NLP Project"
   ]
  },
  {
   "cell_type": "markdown",
   "id": "fb782bfc",
   "metadata": {},
   "source": [
    "In this project we will create a Machine Learning model to classify whether a email is spam or ham based on the contents of the email.\n",
    "\n",
    "The dataset is in the form of an csv file. It has the following columns \n",
    "1. Unamed 0: it is a column with random numbers.\n",
    "2. label: it is the column that tells whether the email is ham or spam. \n",
    "3. text: it contains the content of the email\n",
    "4. label_num: numeric representation for ham and spam. 0 = ham , 1 = spam"
   ]
  },
  {
   "cell_type": "markdown",
   "id": "24504666",
   "metadata": {},
   "source": [
    "## Importing the necssary packages"
   ]
  },
  {
   "cell_type": "code",
   "execution_count": 1,
   "id": "6b9fd844",
   "metadata": {},
   "outputs": [],
   "source": [
    "#Basic packages\n",
    "import numpy as np\n",
    "import pandas as pd\n",
    "import matplotlib.pyplot as plt\n",
    "import os\n",
    "import seaborn as sns\n",
    "\n",
    "#Functions needed from nltk to preprocess the data\n",
    "from nltk import re\n",
    "from nltk.tokenize import RegexpTokenizer\n",
    "from nltk.corpus import stopwords\n",
    "from nltk.stem import WordNetLemmatizer\n",
    "\n",
    "#Modules needed from sklearn to vectorize the data , create a model ,train it and then evaluate it\n",
    "from sklearn.feature_extraction.text import TfidfVectorizer\n",
    "from sklearn.model_selection import train_test_split\n",
    "from sklearn.ensemble import RandomForestClassifier\n",
    "from sklearn.metrics import classification_report,confusion_matrix,RocCurveDisplay,roc_auc_score\n",
    "\n",
    "#To show all matplotlib plots on the notebook\n",
    "%matplotlib inline"
   ]
  },
  {
   "cell_type": "markdown",
   "id": "3a1f9dcd",
   "metadata": {},
   "source": [
    "## Analyzing the data "
   ]
  },
  {
   "cell_type": "code",
   "execution_count": 2,
   "id": "9570f501",
   "metadata": {},
   "outputs": [
    {
     "data": {
      "text/html": [
       "<div>\n",
       "<style scoped>\n",
       "    .dataframe tbody tr th:only-of-type {\n",
       "        vertical-align: middle;\n",
       "    }\n",
       "\n",
       "    .dataframe tbody tr th {\n",
       "        vertical-align: top;\n",
       "    }\n",
       "\n",
       "    .dataframe thead th {\n",
       "        text-align: right;\n",
       "    }\n",
       "</style>\n",
       "<table border=\"1\" class=\"dataframe\">\n",
       "  <thead>\n",
       "    <tr style=\"text-align: right;\">\n",
       "      <th></th>\n",
       "      <th>Unnamed: 0</th>\n",
       "      <th>label</th>\n",
       "      <th>text</th>\n",
       "      <th>label_num</th>\n",
       "    </tr>\n",
       "  </thead>\n",
       "  <tbody>\n",
       "    <tr>\n",
       "      <th>0</th>\n",
       "      <td>605</td>\n",
       "      <td>ham</td>\n",
       "      <td>Subject: enron methanol ; meter # : 988291\\r\\n...</td>\n",
       "      <td>0</td>\n",
       "    </tr>\n",
       "    <tr>\n",
       "      <th>1</th>\n",
       "      <td>2349</td>\n",
       "      <td>ham</td>\n",
       "      <td>Subject: hpl nom for january 9 , 2001\\r\\n( see...</td>\n",
       "      <td>0</td>\n",
       "    </tr>\n",
       "    <tr>\n",
       "      <th>2</th>\n",
       "      <td>3624</td>\n",
       "      <td>ham</td>\n",
       "      <td>Subject: neon retreat\\r\\nho ho ho , we ' re ar...</td>\n",
       "      <td>0</td>\n",
       "    </tr>\n",
       "    <tr>\n",
       "      <th>3</th>\n",
       "      <td>4685</td>\n",
       "      <td>spam</td>\n",
       "      <td>Subject: photoshop , windows , office . cheap ...</td>\n",
       "      <td>1</td>\n",
       "    </tr>\n",
       "    <tr>\n",
       "      <th>4</th>\n",
       "      <td>2030</td>\n",
       "      <td>ham</td>\n",
       "      <td>Subject: re : indian springs\\r\\nthis deal is t...</td>\n",
       "      <td>0</td>\n",
       "    </tr>\n",
       "  </tbody>\n",
       "</table>\n",
       "</div>"
      ],
      "text/plain": [
       "   Unnamed: 0 label                                               text  \\\n",
       "0         605   ham  Subject: enron methanol ; meter # : 988291\\r\\n...   \n",
       "1        2349   ham  Subject: hpl nom for january 9 , 2001\\r\\n( see...   \n",
       "2        3624   ham  Subject: neon retreat\\r\\nho ho ho , we ' re ar...   \n",
       "3        4685  spam  Subject: photoshop , windows , office . cheap ...   \n",
       "4        2030   ham  Subject: re : indian springs\\r\\nthis deal is t...   \n",
       "\n",
       "   label_num  \n",
       "0          0  \n",
       "1          0  \n",
       "2          0  \n",
       "3          1  \n",
       "4          0  "
      ]
     },
     "execution_count": 2,
     "metadata": {},
     "output_type": "execute_result"
    }
   ],
   "source": [
    "#Reading the dataset from csv file and storing it to a dataframe\n",
    "df=pd.read_csv('spam_ham_dataset.csv')\n",
    "df.head()"
   ]
  },
  {
   "cell_type": "code",
   "execution_count": 3,
   "id": "825ed679",
   "metadata": {},
   "outputs": [
    {
     "data": {
      "text/plain": [
       "Unnamed: 0    0\n",
       "label         0\n",
       "text          0\n",
       "label_num     0\n",
       "dtype: int64"
      ]
     },
     "execution_count": 3,
     "metadata": {},
     "output_type": "execute_result"
    }
   ],
   "source": [
    "#Finding count of NaN values in the dataset\n",
    "df.isna().sum()"
   ]
  },
  {
   "cell_type": "markdown",
   "id": "f1da23d5",
   "metadata": {},
   "source": [
    "There are no NaN values in the dataset"
   ]
  },
  {
   "cell_type": "code",
   "execution_count": 4,
   "id": "964440de",
   "metadata": {},
   "outputs": [
    {
     "name": "stdout",
     "output_type": "stream",
     "text": [
      "Ham email count: 3672 , Spam email count : 1499\n"
     ]
    }
   ],
   "source": [
    "#finding the number of ham and spam emails in the dataset\n",
    "ham_count=df[df['label']=='ham']\n",
    "spam_count=df[df['label']=='spam']\n",
    "print(\"Ham email count: {} , Spam email count : {}\".format(len(ham_count),len(spam_count)))"
   ]
  },
  {
   "cell_type": "code",
   "execution_count": 5,
   "id": "e0821b52",
   "metadata": {},
   "outputs": [
    {
     "data": {
      "image/png": "[encoded data removed]",
      "text/plain": [
       "<Figure size 640x480 with 1 Axes>"
      ]
     },
     "metadata": {},
     "output_type": "display_data"
    }
   ],
   "source": [
    "#Plotting a bar graph based on the number of spam and ham emails\n",
    "fig , ax = plt.subplots()\n",
    "\n",
    "x_val=['ham','spam']\n",
    "y_val=[len(ham_count),len(spam_count)]\n",
    "\n",
    "lab=['ham','spam']\n",
    "bar_colors=['tab:red','tab:blue']\n",
    "\n",
    "ax.bar(x_val,y_val,label=lab,color=bar_colors)\n",
    "ax.set_ylabel('Number or emails')\n",
    "ax.set_xlabel('Ham or Spam')\n",
    "ax.legend(title='Mail type');"
   ]
  },
  {
   "cell_type": "markdown",
   "id": "327dd2c3",
   "metadata": {},
   "source": [
    "This graph shows the comparison between the number of spam and ham emails in the dataset"
   ]
  },
  {
   "cell_type": "code",
   "execution_count": 6,
   "id": "1069989c",
   "metadata": {},
   "outputs": [
    {
     "name": "stdout",
     "output_type": "stream",
     "text": [
      "Subject: end of year clearance\r\n",
      "item no #\r\n",
      "description\r\n",
      "price $\r\n",
      "1 .\r\n",
      "2 . 2 gb compact flash + type ii\r\n",
      "micro\r\n",
      "$\r\n",
      "99\r\n",
      ". 00\r\n",
      "2 .\r\n",
      "256 mb ddr ram sodimm for\r\n",
      "notebook\r\n",
      "$\r\n",
      "29\r\n",
      ". 90\r\n",
      "3 .\r\n",
      "compaq ps / 2\r\n",
      "keyboard\r\n",
      "$\r\n",
      "9\r\n",
      ". 50\r\n",
      "4 .\r\n",
      "diamond supraexpress 56 k ext . serial\r\n",
      "data / fax / voice modem\r\n",
      "$\r\n",
      "23\r\n",
      ". 90\r\n",
      "5 .\r\n",
      "diamond supramax 56 k usb external\r\n",
      "modem\r\n",
      "$\r\n",
      "25\r\n",
      ". 50\r\n",
      "6 .\r\n",
      "hp deskjet 1100 d printer\r\n",
      "$\r\n",
      "158\r\n",
      ". 00\r\n",
      "7 .\r\n",
      "hp laserjet 1160 printer\r\n",
      "$\r\n",
      "278\r\n",
      ". 00\r\n",
      "8 .\r\n",
      "intel play me 2 web camera\r\n",
      "$\r\n",
      "8\r\n",
      ". 80\r\n",
      "9 .\r\n",
      "logitech classic wireless keyboard +\r\n",
      "optical mouse + web camera w / built - in - microphone\r\n",
      "( 3 - in - 1 )\r\n",
      "$\r\n",
      "52\r\n",
      ". 00\r\n",
      "10 .\r\n",
      "logitech wireless optical scroll\r\n",
      "mouse\r\n",
      "$\r\n",
      "16\r\n",
      ". 90\r\n",
      "11 .\r\n",
      "logitech io personal digital pen\r\n",
      "$\r\n",
      "107\r\n",
      ". 50\r\n",
      "12 .\r\n",
      "notebookplus usb mini webcam\r\n",
      "$\r\n",
      "15\r\n",
      ". 90\r\n",
      "13 .\r\n",
      "notebookplus mobile mini usb keypad +\r\n",
      "calculator ( 2 - in - 1 )\r\n",
      "$\r\n",
      "49\r\n",
      ". 00\r\n",
      "14 .\r\n",
      "oem 4 port usb 2 . 0 mini hub no power\r\n",
      "required\r\n",
      "$\r\n",
      "5\r\n",
      ". 50\r\n",
      "15 .\r\n",
      "optorite 8 x + / - dvd - rewriter\r\n",
      "$\r\n",
      "49\r\n",
      ". 00\r\n",
      "16 .\r\n",
      "olympus trip - md 3 focus free\r\n",
      "camera\r\n",
      "$\r\n",
      "19\r\n",
      ". 50\r\n",
      "17 .\r\n",
      "oem pcmcia 5 in 1 memory card\r\n",
      "reader\r\n",
      "$\r\n",
      "36\r\n",
      ". 00\r\n",
      "18 .\r\n",
      "pocket digital camcoder / camera\r\n",
      "( 2 - in - 1 )\r\n",
      "$\r\n",
      "58\r\n",
      ". 00\r\n",
      "19 .\r\n",
      "security lock kit for cpu / monitor / keyboard\r\n",
      "lock ( aluminium )\r\n",
      "$\r\n",
      "9\r\n",
      ". 50\r\n",
      "20 .\r\n",
      "sim card backup 168 16 kb memory\r\n",
      "$\r\n",
      "36\r\n",
      ". 00\r\n",
      "21 .\r\n",
      "super gsm usb sim card reader\r\n",
      "$\r\n",
      "17\r\n",
      ". 50\r\n",
      "22 .\r\n",
      "samsung 52 x 24 x 52 xl 6 dvd - cdrw\r\n",
      "combo\r\n",
      "$\r\n",
      "34\r\n",
      ". 90\r\n",
      "23 .\r\n",
      "toshiba advanced port replicator\r\n",
      "$\r\n",
      "99\r\n",
      ". 00\r\n",
      "24 .\r\n",
      "usb to ethernet adapter\r\n",
      "$\r\n",
      "12\r\n",
      ". 90\r\n",
      "25 .\r\n",
      "zdrive 1 . 5 gb usb 2 . 0 drive\r\n",
      "$\r\n",
      "127\r\n",
      ". 00\r\n",
      "256 mb ddr ram sodimm\r\n",
      "gsm usb sim card reader\r\n",
      "logitech io personal digital\r\n",
      "pen\r\n",
      "diamond supramax 56 k usb ext .\r\n",
      "modem\r\n",
      "notebookplus mobile mini usb\r\n",
      "keypad\r\n",
      "your one stop distributorjebel ali duty free zonedubai , uae . www . computron - me . com\r\n",
      "for latest clearance sale listing contact our\r\n",
      "sales\r\n",
      "department .\r\n",
      "for further details please send\r\n",
      "your enquiries to : dealers @ emirates . net . aeor contact via www . computron - me . com\r\n",
      "compaq\r\n",
      "hewlett packard\r\n",
      "3 com\r\n",
      "dell\r\n",
      "intel\r\n",
      "iomega\r\n",
      "epson\r\n",
      "aopen\r\n",
      "creative\r\n",
      "toshiba\r\n",
      "apc\r\n",
      "cisco\r\n",
      "us\r\n",
      "robotics\r\n",
      "microsoft\r\n",
      "canon\r\n",
      "intellinet\r\n",
      "targus\r\n",
      "viewsonic\r\n",
      "ibm\r\n",
      "sony\r\n",
      "- - - - - - - and lots more\r\n",
      "! ! !\r\n",
      "if you have any\r\n",
      "complaints / suggestions contact : customerservice @ computron - me . com\r\n",
      "tel + 971 4\r\n",
      "8834464\r\n",
      "all prices in u . s . dollars , ex - works ,\r\n",
      "fax + 971 4\r\n",
      "8834454\r\n",
      "jebel ali duty free zone\r\n",
      "www . computron - me . com\r\n",
      "prices and availability subject to change\r\n",
      "usa -\r\n",
      "canada u . a . e .\r\n",
      "without\r\n",
      "notice .\r\n",
      "to receive our special offers\r\n",
      "in plain\r\n",
      "text format reply to this\r\n",
      "mail with the request * for\r\n",
      "export only *\r\n",
      "this\r\n",
      "email can not be considered spam as long as we include : contact\r\n",
      "information remove instructions . this message is intended for dealer\r\n",
      "and resellers only . if you have somehow gotten on this list in error , or\r\n",
      "for any other reason would like to be removed , please reply with \" remove\r\n",
      "\" in the subject line of your message . this message is being sent to you\r\n",
      "in compliance with the federal legislation for commercial e - mail\r\n",
      "( h . r . 4176 - section 101 paragraph ( e ) ( 1 ) ( a ) and bill s . 1618 title iii\r\n",
      "passed by the 105 th u . s . congress .\r\n",
      "all logos and\r\n",
      "trademarks are the property of their respective ownerstoshiba for\r\n",
      "export only . hp only\r\n",
      "for sale in the middle east\r\n",
      "products may not be exactly as shown\r\n",
      "above\r\n",
      "- -\r\n",
      "to unsubscribe from : computron 4 , just follow this link :\r\n",
      "click the link , or copy and paste the address into your browser .\r\n",
      "please give it atleast 48 hours for unsubscription to be effective .\n"
     ]
    }
   ],
   "source": [
    "#content of an email\n",
    "print(df['text'][35])"
   ]
  },
  {
   "cell_type": "code",
   "execution_count": 7,
   "id": "2232a2c8",
   "metadata": {},
   "outputs": [],
   "source": [
    "#Finding the lentgh of each ham and spam emails seperately\n",
    "ham_length=[len(i) for i in df[df['label']=='ham']['text']]\n",
    "spam_length=[len(i) for i in df[df['label']=='spam']['text']]"
   ]
  },
  {
   "cell_type": "code",
   "execution_count": 8,
   "id": "118e9061",
   "metadata": {},
   "outputs": [
    {
     "data": {
      "image/png": "[encoded data removed]",
      "text/plain": [
       "<Figure size 1200x300 with 2 Axes>"
      ]
     },
     "metadata": {},
     "output_type": "display_data"
    }
   ],
   "source": [
    "#Plotting a histogram to see the distrubution of email length\n",
    "fig , ax = plt.subplots(1,2,figsize=(12,3))\n",
    "\n",
    "ax[0].hist(ham_length,10,density=True)\n",
    "ax[0].set_title('Ham email size distrubution')\n",
    "\n",
    "ax[1].hist(spam_length,10,density=True)\n",
    "ax[1].set_title('Spam email size distrubution');"
   ]
  },
  {
   "cell_type": "code",
   "execution_count": 9,
   "id": "934f83ec",
   "metadata": {},
   "outputs": [],
   "source": [
    "#Finding the number of non-numeric characters for each ham and spam emails seperately\n",
    "ham_noncharacter_count=[len(re.findall(\"[^\\s[a-zA-Z_]\",i)) for i in df[df['label']=='ham']['text']]\n",
    "spam_noncharacter_count=[len(re.findall(\"[^\\s[a-zA-Z_]\",i)) for i in df[df['label']=='spam']['text']]"
   ]
  },
  {
   "cell_type": "code",
   "execution_count": 10,
   "id": "b68fdebc",
   "metadata": {},
   "outputs": [
    {
     "data": {
      "image/png": "[encoded data removed]",
      "text/plain": [
       "<Figure size 1200x400 with 2 Axes>"
      ]
     },
     "metadata": {},
     "output_type": "display_data"
    }
   ],
   "source": [
    "#Plotting a histogram to see the distrubution of number of non-numeric characters for each ham and spam emails \n",
    "fig , ax = plt.subplots(1,2,figsize=(12,4))\n",
    "ax[0].hist(ham_noncharacter_count,50,density=True)\n",
    "ax[0].set_title('Ham email size distrubution')\n",
    "ax[0].set_xlim(0,1000)\n",
    "ax[1].hist(spam_noncharacter_count,50,density=True)\n",
    "ax[1].set_xlim(0,1000)\n",
    "ax[1].set_title('Spam email size distrubution');"
   ]
  },
  {
   "cell_type": "markdown",
   "id": "ae2d9cfc",
   "metadata": {},
   "source": [
    "## Preprocessing the data"
   ]
  },
  {
   "cell_type": "code",
   "execution_count": 11,
   "id": "93ce0436",
   "metadata": {},
   "outputs": [],
   "source": [
    "def preprocess_text(input_text):\n",
    "    \"\"\"This function takes a text as input and returns a text where stopwords and punctuations have been removed. The returned\n",
    "       string has been lemmetized.\n",
    "    \"\"\"\n",
    "    tokenizer = RegexpTokenizer(r\"\\w+\")\n",
    "    wnl = WordNetLemmatizer()\n",
    "    tokenized_words = tokenizer.tokenize(input_text)\n",
    "    st_words = list(set(stopwords.words('english')))\n",
    "    new_text = [i.lower() for i in tokenized_words if i.lower() not in st_words]\n",
    "    new_text = [wnl.lemmatize(i) for i in new_text]\n",
    "    new_text = ' '.join(new_text)\n",
    "    return new_text"
   ]
  },
  {
   "cell_type": "code",
   "execution_count": 13,
   "id": "f1ff8cd2",
   "metadata": {},
   "outputs": [
    {
     "data": {
      "text/html": [
       "<div>\n",
       "<style scoped>\n",
       "    .dataframe tbody tr th:only-of-type {\n",
       "        vertical-align: middle;\n",
       "    }\n",
       "\n",
       "    .dataframe tbody tr th {\n",
       "        vertical-align: top;\n",
       "    }\n",
       "\n",
       "    .dataframe thead th {\n",
       "        text-align: right;\n",
       "    }\n",
       "</style>\n",
       "<table border=\"1\" class=\"dataframe\">\n",
       "  <thead>\n",
       "    <tr style=\"text-align: right;\">\n",
       "      <th></th>\n",
       "      <th>Unnamed: 0</th>\n",
       "      <th>label</th>\n",
       "      <th>text</th>\n",
       "      <th>label_num</th>\n",
       "    </tr>\n",
       "  </thead>\n",
       "  <tbody>\n",
       "    <tr>\n",
       "      <th>0</th>\n",
       "      <td>605</td>\n",
       "      <td>ham</td>\n",
       "      <td>subject enron methanol meter 988291 follow not...</td>\n",
       "      <td>0</td>\n",
       "    </tr>\n",
       "    <tr>\n",
       "      <th>1</th>\n",
       "      <td>2349</td>\n",
       "      <td>ham</td>\n",
       "      <td>subject hpl nom january 9 2001 see attached fi...</td>\n",
       "      <td>0</td>\n",
       "    </tr>\n",
       "    <tr>\n",
       "      <th>2</th>\n",
       "      <td>3624</td>\n",
       "      <td>ham</td>\n",
       "      <td>subject neon retreat ho ho ho around wonderful...</td>\n",
       "      <td>0</td>\n",
       "    </tr>\n",
       "    <tr>\n",
       "      <th>3</th>\n",
       "      <td>4685</td>\n",
       "      <td>spam</td>\n",
       "      <td>subject photoshop window office cheap main tre...</td>\n",
       "      <td>1</td>\n",
       "    </tr>\n",
       "    <tr>\n",
       "      <th>4</th>\n",
       "      <td>2030</td>\n",
       "      <td>ham</td>\n",
       "      <td>subject indian spring deal book teco pvr reven...</td>\n",
       "      <td>0</td>\n",
       "    </tr>\n",
       "  </tbody>\n",
       "</table>\n",
       "</div>"
      ],
      "text/plain": [
       "   Unnamed: 0 label                                               text  \\\n",
       "0         605   ham  subject enron methanol meter 988291 follow not...   \n",
       "1        2349   ham  subject hpl nom january 9 2001 see attached fi...   \n",
       "2        3624   ham  subject neon retreat ho ho ho around wonderful...   \n",
       "3        4685  spam  subject photoshop window office cheap main tre...   \n",
       "4        2030   ham  subject indian spring deal book teco pvr reven...   \n",
       "\n",
       "   label_num  \n",
       "0          0  \n",
       "1          0  \n",
       "2          0  \n",
       "3          1  \n",
       "4          0  "
      ]
     },
     "execution_count": 13,
     "metadata": {},
     "output_type": "execute_result"
    }
   ],
   "source": [
    "#Applying the preprocessing function to each row in the text column\n",
    "df['text'] = df['text'].apply(preprocess_text)\n",
    "df.head()"
   ]
  },
  {
   "cell_type": "code",
   "execution_count": 14,
   "id": "8200f39e",
   "metadata": {},
   "outputs": [],
   "source": [
    "#Creating a TF-IDF vector from the text and then splitting the data into test and train.\n",
    "vectorizer = TfidfVectorizer()\n",
    "\n",
    "X = df['text']\n",
    "X_tfid = vectorizer.fit_transform(X)\n",
    "y = df['label_num']\n",
    "\n",
    "X_train , X_test , y_train , y_test = train_test_split(X_tfid,y,test_size=0.2,random_state=42)"
   ]
  },
  {
   "cell_type": "markdown",
   "id": "52879973",
   "metadata": {},
   "source": [
    "## Training and Evaluating the model"
   ]
  },
  {
   "cell_type": "code",
   "execution_count": 15,
   "id": "cdcb970c",
   "metadata": {},
   "outputs": [
    {
     "name": "stdout",
     "output_type": "stream",
     "text": [
      "              precision    recall  f1-score   support\n",
      "\n",
      "           0       0.98      1.00      0.99       742\n",
      "           1       0.99      0.95      0.97       293\n",
      "\n",
      "    accuracy                           0.98      1035\n",
      "   macro avg       0.99      0.97      0.98      1035\n",
      "weighted avg       0.98      0.98      0.98      1035\n",
      "\n"
     ]
    }
   ],
   "source": [
    "#Training the model and evaluating it\n",
    "\n",
    "clf = RandomForestClassifier(max_features='log2',random_state=42)\n",
    "\n",
    "clf.fit(X_train,y_train)\n",
    "\n",
    "y_pred = clf.predict(X_test)\n",
    "print(classification_report(y_test,y_pred))"
   ]
  },
  {
   "cell_type": "code",
   "execution_count": 16,
   "id": "b3d771a2",
   "metadata": {},
   "outputs": [
    {
     "data": {
      "image/png": "[encoded data removed]",
      "text/plain": [
       "<Figure size 640x480 with 2 Axes>"
      ]
     },
     "metadata": {},
     "output_type": "display_data"
    }
   ],
   "source": [
    "#Plotting a confusion matrix\n",
    "sns.heatmap(confusion_matrix(y_test,y_pred),annot=True,fmt=\".1f\");"
   ]
  },
  {
   "cell_type": "code",
   "execution_count": 17,
   "id": "23ee5322",
   "metadata": {},
   "outputs": [
    {
     "name": "stdout",
     "output_type": "stream",
     "text": [
      "Area under the ROC Curve is 0.9713485368389096\n"
     ]
    },
    {
     "data": {
      "image/png": "[encoded data removed]",
      "text/plain": [
       "<Figure size 640x480 with 1 Axes>"
      ]
     },
     "metadata": {},
     "output_type": "display_data"
    }
   ],
   "source": [
    "#plotting the ROC Curve and find the area under the curve\n",
    "RocCurveDisplay.from_predictions(y_test,y_pred)\n",
    "print(\"Area under the ROC Curve is {}\".format(roc_auc_score(y_test,y_pred)));"
   ]
  }
 ],
 "metadata": {
  "kernelspec": {
   "display_name": "Python 3 (ipykernel)",
   "language": "python",
   "name": "python3"
  },
  "language_info": {
   "codemirror_mode": {
    "name": "ipython",
    "version": 3
   },
   "file_extension": ".py",
   "mimetype": "text/x-python",
   "name": "python",
   "nbconvert_exporter": "python",
   "pygments_lexer": "ipython3",
   "version": "3.10.9"
  }
 },
 "nbformat": 4,
 "nbformat_minor": 5
}
